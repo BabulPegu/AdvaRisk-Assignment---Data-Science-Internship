{
 "cells": [
  {
   "cell_type": "code",
   "execution_count": 9,
   "metadata": {},
   "outputs": [
    {
     "name": "stdout",
     "output_type": "stream",
     "text": [
      "विजय कुमार राठी\n",
      "विनय राठी\n",
      "Not Match\n"
     ]
    }
   ],
   "source": [
    "data=input()#take Owner name received through application (Input) in here or through dataframe\n",
    "data=data.split(\" \")\n",
    "DB=input() #take Owner name available in DB\n",
    "DB=DB.split(\" \")\n",
    "def f(data,DB):\n",
    "    for i in range(len(DB)):\n",
    "        for j in range(len(data)):\n",
    "            if DB[i]==data[j]:\n",
    "                print(\"Match\")\n",
    "            else:\n",
    "                print(\"Not Match\")\n",
    "            return\n",
    "    return\n",
    "f(data,DB)"
   ]
  },
  {
   "cell_type": "code",
   "execution_count": null,
   "metadata": {},
   "outputs": [],
   "source": []
  }
 ],
 "metadata": {
  "kernelspec": {
   "display_name": "Python 3",
   "language": "python",
   "name": "python3"
  },
  "language_info": {
   "codemirror_mode": {
    "name": "ipython",
    "version": 3
   },
   "file_extension": ".py",
   "mimetype": "text/x-python",
   "name": "python",
   "nbconvert_exporter": "python",
   "pygments_lexer": "ipython3",
   "version": "3.8.3"
  }
 },
 "nbformat": 4,
 "nbformat_minor": 4
}
